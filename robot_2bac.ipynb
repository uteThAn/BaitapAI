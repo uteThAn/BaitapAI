{
  "nbformat": 4,
  "nbformat_minor": 0,
  "metadata": {
    "colab": {
      "name": "robot_2bac.ipynb",
      "provenance": [],
      "mount_file_id": "1m6i1kl2vO-p67pXjzO04LnZbnK6q71Kl",
      "authorship_tag": "ABX9TyNaiS9BqIyz0JNIZfT0Fdg9",
      "include_colab_link": true
    },
    "kernelspec": {
      "name": "python3",
      "display_name": "Python 3"
    },
    "language_info": {
      "name": "python"
    }
  },
  "cells": [
    {
      "cell_type": "markdown",
      "metadata": {
        "id": "view-in-github",
        "colab_type": "text"
      },
      "source": [
        "<a href=\"https://colab.research.google.com/github/uteThAn/BaitapAI/blob/main/robot_2bac.ipynb\" target=\"_parent\"><img src=\"https://colab.research.google.com/assets/colab-badge.svg\" alt=\"Open In Colab\"/></a>"
      ]
    },
    {
      "cell_type": "code",
      "execution_count": 62,
      "metadata": {
        "id": "y_huKh6n3hdf"
      },
      "outputs": [],
      "source": [
        "import math\n",
        "import pandas as pd\n",
        "import numpy as np\n",
        "import tensorflow as tf\n",
        "from sklearn.model_selection import train_test_split\n",
        "from keras.models import Sequential\n",
        "from tensorflow.keras.optimizers import Adam\n",
        "from keras.layers import Dense\n",
        "from keras.callbacks import EarlyStopping"
      ]
    },
    {
      "cell_type": "code",
      "source": [
        "def sind(x):\n",
        "    return math.sin(math.radians(x))\n",
        " \n",
        "def cosd(x):\n",
        "    return math.cos(math.radians(x))"
      ],
      "metadata": {
        "id": "Hj43AEKP7uVn"
      },
      "execution_count": 63,
      "outputs": []
    },
    {
      "cell_type": "code",
      "source": [
        "Px=[]\n",
        "Py=[]\n",
        "tt1=[] \n",
        "tt2=[]\n",
        "for i in range(-120,120,1):\n",
        "  for j in range(-45,45,1):\n",
        "    Px.append(50*cosd(i) + 40*cosd(i+j))\n",
        "    Py.append(50*sind(i) + 40*sind(i+j))\n",
        "    tt1.append(math.radians(i))\n",
        "    tt2.append(math.radians(j))\n"
      ],
      "metadata": {
        "id": "CgY_qj2N-x3F"
      },
      "execution_count": 64,
      "outputs": []
    },
    {
      "cell_type": "code",
      "source": [
        "data = pd.DataFrame(np.c_[tt1,tt2,Px,Py],columns=['tt1','tt2','Px','Py'])"
      ],
      "metadata": {
        "id": "o9TBoe4n-x70"
      },
      "execution_count": 65,
      "outputs": []
    },
    {
      "cell_type": "code",
      "source": [
        "data"
      ],
      "metadata": {
        "colab": {
          "base_uri": "https://localhost:8080/",
          "height": 424
        },
        "id": "o_IGaQGp-yB0",
        "outputId": "c0b3f165-09ee-45d9-a884-6ecbb116d5f1"
      },
      "execution_count": 66,
      "outputs": [
        {
          "output_type": "execute_result",
          "data": {
            "text/plain": [
              "            tt1       tt2         Px         Py\n",
              "0     -2.094395 -0.785398 -63.637033 -53.654032\n",
              "1     -2.094395 -0.767945 -63.450468 -54.326764\n",
              "2     -2.094395 -0.750492 -63.252190 -54.996138\n",
              "3     -2.094395 -0.733038 -63.042261 -55.661950\n",
              "4     -2.094395 -0.715585 -62.820743 -56.323996\n",
              "...         ...       ...        ...        ...\n",
              "21595  2.076942  0.698132 -61.583698  58.065703\n",
              "21596  2.076942  0.715585 -61.828186  57.411791\n",
              "21597  2.076942  0.733038 -62.061224  56.753712\n",
              "21598  2.076942  0.750492 -62.282742  56.091665\n",
              "21599  2.076942  0.767945 -62.492671  55.425854\n",
              "\n",
              "[21600 rows x 4 columns]"
            ],
            "text/html": [
              "\n",
              "  <div id=\"df-fdaa298d-abce-42eb-9906-57e8316f9ae7\">\n",
              "    <div class=\"colab-df-container\">\n",
              "      <div>\n",
              "<style scoped>\n",
              "    .dataframe tbody tr th:only-of-type {\n",
              "        vertical-align: middle;\n",
              "    }\n",
              "\n",
              "    .dataframe tbody tr th {\n",
              "        vertical-align: top;\n",
              "    }\n",
              "\n",
              "    .dataframe thead th {\n",
              "        text-align: right;\n",
              "    }\n",
              "</style>\n",
              "<table border=\"1\" class=\"dataframe\">\n",
              "  <thead>\n",
              "    <tr style=\"text-align: right;\">\n",
              "      <th></th>\n",
              "      <th>tt1</th>\n",
              "      <th>tt2</th>\n",
              "      <th>Px</th>\n",
              "      <th>Py</th>\n",
              "    </tr>\n",
              "  </thead>\n",
              "  <tbody>\n",
              "    <tr>\n",
              "      <th>0</th>\n",
              "      <td>-2.094395</td>\n",
              "      <td>-0.785398</td>\n",
              "      <td>-63.637033</td>\n",
              "      <td>-53.654032</td>\n",
              "    </tr>\n",
              "    <tr>\n",
              "      <th>1</th>\n",
              "      <td>-2.094395</td>\n",
              "      <td>-0.767945</td>\n",
              "      <td>-63.450468</td>\n",
              "      <td>-54.326764</td>\n",
              "    </tr>\n",
              "    <tr>\n",
              "      <th>2</th>\n",
              "      <td>-2.094395</td>\n",
              "      <td>-0.750492</td>\n",
              "      <td>-63.252190</td>\n",
              "      <td>-54.996138</td>\n",
              "    </tr>\n",
              "    <tr>\n",
              "      <th>3</th>\n",
              "      <td>-2.094395</td>\n",
              "      <td>-0.733038</td>\n",
              "      <td>-63.042261</td>\n",
              "      <td>-55.661950</td>\n",
              "    </tr>\n",
              "    <tr>\n",
              "      <th>4</th>\n",
              "      <td>-2.094395</td>\n",
              "      <td>-0.715585</td>\n",
              "      <td>-62.820743</td>\n",
              "      <td>-56.323996</td>\n",
              "    </tr>\n",
              "    <tr>\n",
              "      <th>...</th>\n",
              "      <td>...</td>\n",
              "      <td>...</td>\n",
              "      <td>...</td>\n",
              "      <td>...</td>\n",
              "    </tr>\n",
              "    <tr>\n",
              "      <th>21595</th>\n",
              "      <td>2.076942</td>\n",
              "      <td>0.698132</td>\n",
              "      <td>-61.583698</td>\n",
              "      <td>58.065703</td>\n",
              "    </tr>\n",
              "    <tr>\n",
              "      <th>21596</th>\n",
              "      <td>2.076942</td>\n",
              "      <td>0.715585</td>\n",
              "      <td>-61.828186</td>\n",
              "      <td>57.411791</td>\n",
              "    </tr>\n",
              "    <tr>\n",
              "      <th>21597</th>\n",
              "      <td>2.076942</td>\n",
              "      <td>0.733038</td>\n",
              "      <td>-62.061224</td>\n",
              "      <td>56.753712</td>\n",
              "    </tr>\n",
              "    <tr>\n",
              "      <th>21598</th>\n",
              "      <td>2.076942</td>\n",
              "      <td>0.750492</td>\n",
              "      <td>-62.282742</td>\n",
              "      <td>56.091665</td>\n",
              "    </tr>\n",
              "    <tr>\n",
              "      <th>21599</th>\n",
              "      <td>2.076942</td>\n",
              "      <td>0.767945</td>\n",
              "      <td>-62.492671</td>\n",
              "      <td>55.425854</td>\n",
              "    </tr>\n",
              "  </tbody>\n",
              "</table>\n",
              "<p>21600 rows × 4 columns</p>\n",
              "</div>\n",
              "      <button class=\"colab-df-convert\" onclick=\"convertToInteractive('df-fdaa298d-abce-42eb-9906-57e8316f9ae7')\"\n",
              "              title=\"Convert this dataframe to an interactive table.\"\n",
              "              style=\"display:none;\">\n",
              "        \n",
              "  <svg xmlns=\"http://www.w3.org/2000/svg\" height=\"24px\"viewBox=\"0 0 24 24\"\n",
              "       width=\"24px\">\n",
              "    <path d=\"M0 0h24v24H0V0z\" fill=\"none\"/>\n",
              "    <path d=\"M18.56 5.44l.94 2.06.94-2.06 2.06-.94-2.06-.94-.94-2.06-.94 2.06-2.06.94zm-11 1L8.5 8.5l.94-2.06 2.06-.94-2.06-.94L8.5 2.5l-.94 2.06-2.06.94zm10 10l.94 2.06.94-2.06 2.06-.94-2.06-.94-.94-2.06-.94 2.06-2.06.94z\"/><path d=\"M17.41 7.96l-1.37-1.37c-.4-.4-.92-.59-1.43-.59-.52 0-1.04.2-1.43.59L10.3 9.45l-7.72 7.72c-.78.78-.78 2.05 0 2.83L4 21.41c.39.39.9.59 1.41.59.51 0 1.02-.2 1.41-.59l7.78-7.78 2.81-2.81c.8-.78.8-2.07 0-2.86zM5.41 20L4 18.59l7.72-7.72 1.47 1.35L5.41 20z\"/>\n",
              "  </svg>\n",
              "      </button>\n",
              "      \n",
              "  <style>\n",
              "    .colab-df-container {\n",
              "      display:flex;\n",
              "      flex-wrap:wrap;\n",
              "      gap: 12px;\n",
              "    }\n",
              "\n",
              "    .colab-df-convert {\n",
              "      background-color: #E8F0FE;\n",
              "      border: none;\n",
              "      border-radius: 50%;\n",
              "      cursor: pointer;\n",
              "      display: none;\n",
              "      fill: #1967D2;\n",
              "      height: 32px;\n",
              "      padding: 0 0 0 0;\n",
              "      width: 32px;\n",
              "    }\n",
              "\n",
              "    .colab-df-convert:hover {\n",
              "      background-color: #E2EBFA;\n",
              "      box-shadow: 0px 1px 2px rgba(60, 64, 67, 0.3), 0px 1px 3px 1px rgba(60, 64, 67, 0.15);\n",
              "      fill: #174EA6;\n",
              "    }\n",
              "\n",
              "    [theme=dark] .colab-df-convert {\n",
              "      background-color: #3B4455;\n",
              "      fill: #D2E3FC;\n",
              "    }\n",
              "\n",
              "    [theme=dark] .colab-df-convert:hover {\n",
              "      background-color: #434B5C;\n",
              "      box-shadow: 0px 1px 3px 1px rgba(0, 0, 0, 0.15);\n",
              "      filter: drop-shadow(0px 1px 2px rgba(0, 0, 0, 0.3));\n",
              "      fill: #FFFFFF;\n",
              "    }\n",
              "  </style>\n",
              "\n",
              "      <script>\n",
              "        const buttonEl =\n",
              "          document.querySelector('#df-fdaa298d-abce-42eb-9906-57e8316f9ae7 button.colab-df-convert');\n",
              "        buttonEl.style.display =\n",
              "          google.colab.kernel.accessAllowed ? 'block' : 'none';\n",
              "\n",
              "        async function convertToInteractive(key) {\n",
              "          const element = document.querySelector('#df-fdaa298d-abce-42eb-9906-57e8316f9ae7');\n",
              "          const dataTable =\n",
              "            await google.colab.kernel.invokeFunction('convertToInteractive',\n",
              "                                                     [key], {});\n",
              "          if (!dataTable) return;\n",
              "\n",
              "          const docLinkHtml = 'Like what you see? Visit the ' +\n",
              "            '<a target=\"_blank\" href=https://colab.research.google.com/notebooks/data_table.ipynb>data table notebook</a>'\n",
              "            + ' to learn more about interactive tables.';\n",
              "          element.innerHTML = '';\n",
              "          dataTable['output_type'] = 'display_data';\n",
              "          await google.colab.output.renderOutput(dataTable, element);\n",
              "          const docLink = document.createElement('div');\n",
              "          docLink.innerHTML = docLinkHtml;\n",
              "          element.appendChild(docLink);\n",
              "        }\n",
              "      </script>\n",
              "    </div>\n",
              "  </div>\n",
              "  "
            ]
          },
          "metadata": {},
          "execution_count": 66
        }
      ]
    },
    {
      "cell_type": "code",
      "source": [
        "y = data.drop(['Px','Py'],axis=1)\n",
        "x = data.drop(['tt1','tt2'],axis=1)"
      ],
      "metadata": {
        "id": "0Td2Qx8B_maM"
      },
      "execution_count": 67,
      "outputs": []
    },
    {
      "cell_type": "code",
      "source": [
        "print(x)\n",
        "print(y)"
      ],
      "metadata": {
        "colab": {
          "base_uri": "https://localhost:8080/"
        },
        "id": "5rNOuZqIAnKl",
        "outputId": "30a1ad71-a03e-454b-9906-a0a811d0d64d"
      },
      "execution_count": 68,
      "outputs": [
        {
          "output_type": "stream",
          "name": "stdout",
          "text": [
            "              Px         Py\n",
            "0     -63.637033 -53.654032\n",
            "1     -63.450468 -54.326764\n",
            "2     -63.252190 -54.996138\n",
            "3     -63.042261 -55.661950\n",
            "4     -62.820743 -56.323996\n",
            "...          ...        ...\n",
            "21595 -61.583698  58.065703\n",
            "21596 -61.828186  57.411791\n",
            "21597 -62.061224  56.753712\n",
            "21598 -62.282742  56.091665\n",
            "21599 -62.492671  55.425854\n",
            "\n",
            "[21600 rows x 2 columns]\n",
            "            tt1       tt2\n",
            "0     -2.094395 -0.785398\n",
            "1     -2.094395 -0.767945\n",
            "2     -2.094395 -0.750492\n",
            "3     -2.094395 -0.733038\n",
            "4     -2.094395 -0.715585\n",
            "...         ...       ...\n",
            "21595  2.076942  0.698132\n",
            "21596  2.076942  0.715585\n",
            "21597  2.076942  0.733038\n",
            "21598  2.076942  0.750492\n",
            "21599  2.076942  0.767945\n",
            "\n",
            "[21600 rows x 2 columns]\n"
          ]
        }
      ]
    },
    {
      "cell_type": "code",
      "source": [
        "x_train,x_test,y_train,y_test = train_test_split(x,y,test_size=0.2)"
      ],
      "metadata": {
        "id": "4vLhK1LoApbp"
      },
      "execution_count": 69,
      "outputs": []
    },
    {
      "cell_type": "code",
      "source": [
        "print(x_train.shape)\n",
        "print(y_train.shape)\n",
        "print(x_test.shape)\n",
        "print(y_test.shape)"
      ],
      "metadata": {
        "colab": {
          "base_uri": "https://localhost:8080/"
        },
        "id": "uFq8BKvJBPgS",
        "outputId": "52fe9cba-397c-4dd7-fbce-8178848d3666"
      },
      "execution_count": 70,
      "outputs": [
        {
          "output_type": "stream",
          "name": "stdout",
          "text": [
            "(17280, 2)\n",
            "(17280, 2)\n",
            "(4320, 2)\n",
            "(4320, 2)\n"
          ]
        }
      ]
    },
    {
      "cell_type": "code",
      "source": [
        "callback = tf.keras.callbacks.EarlyStopping(monitor='val_loss', patience=5, mode=\"min\",restore_best_weights=True)\n",
        "model = Sequential()\n",
        "model.add(Dense(512,activation='relu',input_shape=(2,)))\n",
        "model.add(Dense(512,activation='relu'))\n",
        "model.add(Dense(128,activation='relu'))\n",
        "model.add(Dense(2))\n",
        "model.summary()"
      ],
      "metadata": {
        "colab": {
          "base_uri": "https://localhost:8080/"
        },
        "id": "3M7kv79oBlZ2",
        "outputId": "33499f15-2f4c-4d22-8845-9d154ab7b501"
      },
      "execution_count": 71,
      "outputs": [
        {
          "output_type": "stream",
          "name": "stdout",
          "text": [
            "Model: \"sequential_4\"\n",
            "_________________________________________________________________\n",
            " Layer (type)                Output Shape              Param #   \n",
            "=================================================================\n",
            " dense_13 (Dense)            (None, 512)               1536      \n",
            "                                                                 \n",
            " dense_14 (Dense)            (None, 512)               262656    \n",
            "                                                                 \n",
            " dense_15 (Dense)            (None, 128)               65664     \n",
            "                                                                 \n",
            " dense_16 (Dense)            (None, 2)                 258       \n",
            "                                                                 \n",
            "=================================================================\n",
            "Total params: 330,114\n",
            "Trainable params: 330,114\n",
            "Non-trainable params: 0\n",
            "_________________________________________________________________\n"
          ]
        }
      ]
    },
    {
      "cell_type": "code",
      "source": [
        "#compile\n",
        "opt = Adam(learning_rate=0.0001) #toi uu toc do hoc\n",
        "model.compile(optimizer=opt,loss='mse',metrics=['accuracy']) #mse,mae : sai số bình phương trung bình"
      ],
      "metadata": {
        "id": "d4FPhBx8CZMF"
      },
      "execution_count": 72,
      "outputs": []
    },
    {
      "cell_type": "code",
      "source": [
        "history = model.fit(x_train,y_train,batch_size=18,epochs=100,verbose=1,validation_split=0.2,callbacks=[callback])"
      ],
      "metadata": {
        "colab": {
          "base_uri": "https://localhost:8080/"
        },
        "id": "HOk3n6PsC0YJ",
        "outputId": "20cddf32-2121-45e1-9d38-2d4c845c2ad0"
      },
      "execution_count": 78,
      "outputs": [
        {
          "output_type": "stream",
          "name": "stdout",
          "text": [
            "Epoch 1/100\n",
            "768/768 [==============================] - 10s 13ms/step - loss: 0.1604 - accuracy: 0.8534 - val_loss: 0.1543 - val_accuracy: 0.8721\n",
            "Epoch 2/100\n",
            "768/768 [==============================] - 6s 8ms/step - loss: 0.1454 - accuracy: 0.8547 - val_loss: 0.1439 - val_accuracy: 0.8678\n",
            "Epoch 3/100\n",
            "768/768 [==============================] - 5s 7ms/step - loss: 0.1409 - accuracy: 0.8547 - val_loss: 0.1285 - val_accuracy: 0.8458\n",
            "Epoch 4/100\n",
            "768/768 [==============================] - 5s 6ms/step - loss: 0.1365 - accuracy: 0.8566 - val_loss: 0.1219 - val_accuracy: 0.8686\n",
            "Epoch 5/100\n",
            "768/768 [==============================] - 5s 7ms/step - loss: 0.1284 - accuracy: 0.8578 - val_loss: 0.1261 - val_accuracy: 0.8741\n",
            "Epoch 6/100\n",
            "768/768 [==============================] - 5s 7ms/step - loss: 0.1258 - accuracy: 0.8618 - val_loss: 0.1216 - val_accuracy: 0.8730\n",
            "Epoch 7/100\n",
            "768/768 [==============================] - 8s 11ms/step - loss: 0.1233 - accuracy: 0.8579 - val_loss: 0.1221 - val_accuracy: 0.8733\n",
            "Epoch 8/100\n",
            "768/768 [==============================] - 7s 9ms/step - loss: 0.1220 - accuracy: 0.8603 - val_loss: 0.1234 - val_accuracy: 0.8698\n",
            "Epoch 9/100\n",
            "768/768 [==============================] - 5s 7ms/step - loss: 0.1208 - accuracy: 0.8610 - val_loss: 0.1246 - val_accuracy: 0.8631\n",
            "Epoch 10/100\n",
            "768/768 [==============================] - 5s 7ms/step - loss: 0.1199 - accuracy: 0.8631 - val_loss: 0.1183 - val_accuracy: 0.8689\n",
            "Epoch 11/100\n",
            "768/768 [==============================] - 5s 7ms/step - loss: 0.1189 - accuracy: 0.8603 - val_loss: 0.1272 - val_accuracy: 0.8712\n",
            "Epoch 12/100\n",
            "768/768 [==============================] - 5s 7ms/step - loss: 0.1179 - accuracy: 0.8602 - val_loss: 0.1201 - val_accuracy: 0.8733\n",
            "Epoch 13/100\n",
            "768/768 [==============================] - 9s 12ms/step - loss: 0.1171 - accuracy: 0.8616 - val_loss: 0.1182 - val_accuracy: 0.8736\n",
            "Epoch 14/100\n",
            "768/768 [==============================] - 5s 7ms/step - loss: 0.1161 - accuracy: 0.8626 - val_loss: 0.1167 - val_accuracy: 0.8738\n",
            "Epoch 15/100\n",
            "768/768 [==============================] - 5s 6ms/step - loss: 0.1159 - accuracy: 0.8612 - val_loss: 0.1197 - val_accuracy: 0.8738\n",
            "Epoch 16/100\n",
            "768/768 [==============================] - 5s 7ms/step - loss: 0.1158 - accuracy: 0.8614 - val_loss: 0.1190 - val_accuracy: 0.8741\n",
            "Epoch 17/100\n",
            "768/768 [==============================] - 5s 7ms/step - loss: 0.1154 - accuracy: 0.8623 - val_loss: 0.1165 - val_accuracy: 0.8750\n",
            "Epoch 18/100\n",
            "768/768 [==============================] - 7s 10ms/step - loss: 0.1150 - accuracy: 0.8618 - val_loss: 0.1172 - val_accuracy: 0.8733\n",
            "Epoch 19/100\n",
            "768/768 [==============================] - 7s 9ms/step - loss: 0.1146 - accuracy: 0.8610 - val_loss: 0.1162 - val_accuracy: 0.8738\n",
            "Epoch 20/100\n",
            "768/768 [==============================] - 5s 7ms/step - loss: 0.1145 - accuracy: 0.8617 - val_loss: 0.1174 - val_accuracy: 0.8730\n",
            "Epoch 21/100\n",
            "768/768 [==============================] - 5s 7ms/step - loss: 0.1148 - accuracy: 0.8621 - val_loss: 0.1170 - val_accuracy: 0.8701\n",
            "Epoch 22/100\n",
            "768/768 [==============================] - 5s 7ms/step - loss: 0.1140 - accuracy: 0.8613 - val_loss: 0.1154 - val_accuracy: 0.8736\n",
            "Epoch 23/100\n",
            "768/768 [==============================] - 7s 9ms/step - loss: 0.1140 - accuracy: 0.8623 - val_loss: 0.1152 - val_accuracy: 0.8744\n",
            "Epoch 24/100\n",
            "768/768 [==============================] - 8s 11ms/step - loss: 0.1140 - accuracy: 0.8621 - val_loss: 0.1152 - val_accuracy: 0.8741\n",
            "Epoch 25/100\n",
            "768/768 [==============================] - 5s 7ms/step - loss: 0.1137 - accuracy: 0.8617 - val_loss: 0.1171 - val_accuracy: 0.8736\n",
            "Epoch 26/100\n",
            "768/768 [==============================] - 5s 6ms/step - loss: 0.1137 - accuracy: 0.8627 - val_loss: 0.1158 - val_accuracy: 0.8741\n",
            "Epoch 27/100\n",
            "768/768 [==============================] - 5s 7ms/step - loss: 0.1139 - accuracy: 0.8625 - val_loss: 0.1170 - val_accuracy: 0.8747\n",
            "Epoch 28/100\n",
            "768/768 [==============================] - 5s 7ms/step - loss: 0.1138 - accuracy: 0.8641 - val_loss: 0.1157 - val_accuracy: 0.8738\n"
          ]
        }
      ]
    },
    {
      "cell_type": "code",
      "source": [
        "score = model.evaluate(x_test,y_test,verbose=0)\n",
        "print('Sai số kiểm tra là: ',score[0])\n",
        "print('độ chính xác kiểm tra là: ',score[1])\n"
      ],
      "metadata": {
        "colab": {
          "base_uri": "https://localhost:8080/"
        },
        "id": "-CZqwBTcC0an",
        "outputId": "dae84018-efe3-4b86-fe27-429ba6865caf"
      },
      "execution_count": 79,
      "outputs": [
        {
          "output_type": "stream",
          "name": "stdout",
          "text": [
            "Sai số kiểm tra là:  0.11441700905561447\n",
            "độ chính xác kiểm tra là:  0.8643518686294556\n"
          ]
        }
      ]
    },
    {
      "cell_type": "code",
      "source": [
        "model.save('/content/drive/MyDrive/AI/robot2.h5')"
      ],
      "metadata": {
        "id": "srwjvK0EK4_c"
      },
      "execution_count": 80,
      "outputs": []
    },
    {
      "cell_type": "code",
      "source": [
        "import matplotlib.pyplot as plt\n",
        "plt.plot(history.history['accuracy'])\n",
        "plt.plot(history.history['val_accuracy'])\n",
        "plt.title('accuracy of robot_2 use ANN')\n",
        "plt.ylabel('accuracy')\n",
        "plt.xlabel('epoch')\n",
        "plt.legend(['train','validation'],loc='upper left')\n",
        "plt.show()"
      ],
      "metadata": {
        "colab": {
          "base_uri": "https://localhost:8080/",
          "height": 295
        },
        "id": "y7JzyAyqGgZ1",
        "outputId": "c2ca3888-9368-42d8-f3b0-c99548c64cc8"
      },
      "execution_count": 81,
      "outputs": [
        {
          "output_type": "display_data",
          "data": {
            "text/plain": [
              "<Figure size 432x288 with 1 Axes>"
            ],
            "image/png": "[encoded data removed]"
          },
          "metadata": {
            "needs_background": "light"
          }
        }
      ]
    },
    {
      "cell_type": "code",
      "source": [
        "ypr=model.predict(x_test)\n",
        "data = pd.DataFrame(np.c_[y_test,ypr,x_test],columns=['tt1','tt2','tt1_pre','tt2_pre','Px','Py'])\n",
        "data"
      ],
      "metadata": {
        "colab": {
          "base_uri": "https://localhost:8080/",
          "height": 424
        },
        "id": "GOYxybLkGgcG",
        "outputId": "22ede4d8-94b5-4fd1-f993-373898a0c811"
      },
      "execution_count": 82,
      "outputs": [
        {
          "output_type": "execute_result",
          "data": {
            "text/plain": [
              "           tt1       tt2   tt1_pre   tt2_pre         Px         Py\n",
              "0     1.675516  0.279253  1.824140  0.129821 -20.210687  86.813449\n",
              "1     1.169371 -0.087266  1.159918 -0.019578  38.315419  81.343146\n",
              "2     0.890118 -0.436332  0.711037 -0.020801  67.417781  56.392144\n",
              "3    -0.052360  0.366519  0.121157 -0.000632  87.973737   9.743882\n",
              "4    -1.710423 -0.750492 -1.785888 -0.337099 -38.044494 -74.686219\n",
              "...        ...       ...       ...       ...        ...        ...\n",
              "4315  0.872665 -0.209440  0.806075 -0.013019  63.659811  62.928681\n",
              "4316 -2.059489 -0.767945 -2.068014 -0.791759 -61.515839 -56.508059\n",
              "4317  0.017453  0.506145  0.239088 -0.025277  84.633401  20.872620\n",
              "4318  1.850049 -0.279253  1.741079  0.056405 -13.781868  88.063085\n",
              "4319  0.401426 -0.209440  0.307988 -0.036145  85.290330  27.168916\n",
              "\n",
              "[4320 rows x 6 columns]"
            ],
            "text/html": [
              "\n",
              "  <div id=\"df-dc6277ba-1a85-429b-8380-00965871df31\">\n",
              "    <div class=\"colab-df-container\">\n",
              "      <div>\n",
              "<style scoped>\n",
              "    .dataframe tbody tr th:only-of-type {\n",
              "        vertical-align: middle;\n",
              "    }\n",
              "\n",
              "    .dataframe tbody tr th {\n",
              "        vertical-align: top;\n",
              "    }\n",
              "\n",
              "    .dataframe thead th {\n",
              "        text-align: right;\n",
              "    }\n",
              "</style>\n",
              "<table border=\"1\" class=\"dataframe\">\n",
              "  <thead>\n",
              "    <tr style=\"text-align: right;\">\n",
              "      <th></th>\n",
              "      <th>tt1</th>\n",
              "      <th>tt2</th>\n",
              "      <th>tt1_pre</th>\n",
              "      <th>tt2_pre</th>\n",
              "      <th>Px</th>\n",
              "      <th>Py</th>\n",
              "    </tr>\n",
              "  </thead>\n",
              "  <tbody>\n",
              "    <tr>\n",
              "      <th>0</th>\n",
              "      <td>1.675516</td>\n",
              "      <td>0.279253</td>\n",
              "      <td>1.824140</td>\n",
              "      <td>0.129821</td>\n",
              "      <td>-20.210687</td>\n",
              "      <td>86.813449</td>\n",
              "    </tr>\n",
              "    <tr>\n",
              "      <th>1</th>\n",
              "      <td>1.169371</td>\n",
              "      <td>-0.087266</td>\n",
              "      <td>1.159918</td>\n",
              "      <td>-0.019578</td>\n",
              "      <td>38.315419</td>\n",
              "      <td>81.343146</td>\n",
              "    </tr>\n",
              "    <tr>\n",
              "      <th>2</th>\n",
              "      <td>0.890118</td>\n",
              "      <td>-0.436332</td>\n",
              "      <td>0.711037</td>\n",
              "      <td>-0.020801</td>\n",
              "      <td>67.417781</td>\n",
              "      <td>56.392144</td>\n",
              "    </tr>\n",
              "    <tr>\n",
              "      <th>3</th>\n",
              "      <td>-0.052360</td>\n",
              "      <td>0.366519</td>\n",
              "      <td>0.121157</td>\n",
              "      <td>-0.000632</td>\n",
              "      <td>87.973737</td>\n",
              "      <td>9.743882</td>\n",
              "    </tr>\n",
              "    <tr>\n",
              "      <th>4</th>\n",
              "      <td>-1.710423</td>\n",
              "      <td>-0.750492</td>\n",
              "      <td>-1.785888</td>\n",
              "      <td>-0.337099</td>\n",
              "      <td>-38.044494</td>\n",
              "      <td>-74.686219</td>\n",
              "    </tr>\n",
              "    <tr>\n",
              "      <th>...</th>\n",
              "      <td>...</td>\n",
              "      <td>...</td>\n",
              "      <td>...</td>\n",
              "      <td>...</td>\n",
              "      <td>...</td>\n",
              "      <td>...</td>\n",
              "    </tr>\n",
              "    <tr>\n",
              "      <th>4315</th>\n",
              "      <td>0.872665</td>\n",
              "      <td>-0.209440</td>\n",
              "      <td>0.806075</td>\n",
              "      <td>-0.013019</td>\n",
              "      <td>63.659811</td>\n",
              "      <td>62.928681</td>\n",
              "    </tr>\n",
              "    <tr>\n",
              "      <th>4316</th>\n",
              "      <td>-2.059489</td>\n",
              "      <td>-0.767945</td>\n",
              "      <td>-2.068014</td>\n",
              "      <td>-0.791759</td>\n",
              "      <td>-61.515839</td>\n",
              "      <td>-56.508059</td>\n",
              "    </tr>\n",
              "    <tr>\n",
              "      <th>4317</th>\n",
              "      <td>0.017453</td>\n",
              "      <td>0.506145</td>\n",
              "      <td>0.239088</td>\n",
              "      <td>-0.025277</td>\n",
              "      <td>84.633401</td>\n",
              "      <td>20.872620</td>\n",
              "    </tr>\n",
              "    <tr>\n",
              "      <th>4318</th>\n",
              "      <td>1.850049</td>\n",
              "      <td>-0.279253</td>\n",
              "      <td>1.741079</td>\n",
              "      <td>0.056405</td>\n",
              "      <td>-13.781868</td>\n",
              "      <td>88.063085</td>\n",
              "    </tr>\n",
              "    <tr>\n",
              "      <th>4319</th>\n",
              "      <td>0.401426</td>\n",
              "      <td>-0.209440</td>\n",
              "      <td>0.307988</td>\n",
              "      <td>-0.036145</td>\n",
              "      <td>85.290330</td>\n",
              "      <td>27.168916</td>\n",
              "    </tr>\n",
              "  </tbody>\n",
              "</table>\n",
              "<p>4320 rows × 6 columns</p>\n",
              "</div>\n",
              "      <button class=\"colab-df-convert\" onclick=\"convertToInteractive('df-dc6277ba-1a85-429b-8380-00965871df31')\"\n",
              "              title=\"Convert this dataframe to an interactive table.\"\n",
              "              style=\"display:none;\">\n",
              "        \n",
              "  <svg xmlns=\"http://www.w3.org/2000/svg\" height=\"24px\"viewBox=\"0 0 24 24\"\n",
              "       width=\"24px\">\n",
              "    <path d=\"M0 0h24v24H0V0z\" fill=\"none\"/>\n",
              "    <path d=\"M18.56 5.44l.94 2.06.94-2.06 2.06-.94-2.06-.94-.94-2.06-.94 2.06-2.06.94zm-11 1L8.5 8.5l.94-2.06 2.06-.94-2.06-.94L8.5 2.5l-.94 2.06-2.06.94zm10 10l.94 2.06.94-2.06 2.06-.94-2.06-.94-.94-2.06-.94 2.06-2.06.94z\"/><path d=\"M17.41 7.96l-1.37-1.37c-.4-.4-.92-.59-1.43-.59-.52 0-1.04.2-1.43.59L10.3 9.45l-7.72 7.72c-.78.78-.78 2.05 0 2.83L4 21.41c.39.39.9.59 1.41.59.51 0 1.02-.2 1.41-.59l7.78-7.78 2.81-2.81c.8-.78.8-2.07 0-2.86zM5.41 20L4 18.59l7.72-7.72 1.47 1.35L5.41 20z\"/>\n",
              "  </svg>\n",
              "      </button>\n",
              "      \n",
              "  <style>\n",
              "    .colab-df-container {\n",
              "      display:flex;\n",
              "      flex-wrap:wrap;\n",
              "      gap: 12px;\n",
              "    }\n",
              "\n",
              "    .colab-df-convert {\n",
              "      background-color: #E8F0FE;\n",
              "      border: none;\n",
              "      border-radius: 50%;\n",
              "      cursor: pointer;\n",
              "      display: none;\n",
              "      fill: #1967D2;\n",
              "      height: 32px;\n",
              "      padding: 0 0 0 0;\n",
              "      width: 32px;\n",
              "    }\n",
              "\n",
              "    .colab-df-convert:hover {\n",
              "      background-color: #E2EBFA;\n",
              "      box-shadow: 0px 1px 2px rgba(60, 64, 67, 0.3), 0px 1px 3px 1px rgba(60, 64, 67, 0.15);\n",
              "      fill: #174EA6;\n",
              "    }\n",
              "\n",
              "    [theme=dark] .colab-df-convert {\n",
              "      background-color: #3B4455;\n",
              "      fill: #D2E3FC;\n",
              "    }\n",
              "\n",
              "    [theme=dark] .colab-df-convert:hover {\n",
              "      background-color: #434B5C;\n",
              "      box-shadow: 0px 1px 3px 1px rgba(0, 0, 0, 0.15);\n",
              "      filter: drop-shadow(0px 1px 2px rgba(0, 0, 0, 0.3));\n",
              "      fill: #FFFFFF;\n",
              "    }\n",
              "  </style>\n",
              "\n",
              "      <script>\n",
              "        const buttonEl =\n",
              "          document.querySelector('#df-dc6277ba-1a85-429b-8380-00965871df31 button.colab-df-convert');\n",
              "        buttonEl.style.display =\n",
              "          google.colab.kernel.accessAllowed ? 'block' : 'none';\n",
              "\n",
              "        async function convertToInteractive(key) {\n",
              "          const element = document.querySelector('#df-dc6277ba-1a85-429b-8380-00965871df31');\n",
              "          const dataTable =\n",
              "            await google.colab.kernel.invokeFunction('convertToInteractive',\n",
              "                                                     [key], {});\n",
              "          if (!dataTable) return;\n",
              "\n",
              "          const docLinkHtml = 'Like what you see? Visit the ' +\n",
              "            '<a target=\"_blank\" href=https://colab.research.google.com/notebooks/data_table.ipynb>data table notebook</a>'\n",
              "            + ' to learn more about interactive tables.';\n",
              "          element.innerHTML = '';\n",
              "          dataTable['output_type'] = 'display_data';\n",
              "          await google.colab.output.renderOutput(dataTable, element);\n",
              "          const docLink = document.createElement('div');\n",
              "          docLink.innerHTML = docLinkHtml;\n",
              "          element.appendChild(docLink);\n",
              "        }\n",
              "      </script>\n",
              "    </div>\n",
              "  </div>\n",
              "  "
            ]
          },
          "metadata": {},
          "execution_count": 82
        }
      ]
    }
  ]
}